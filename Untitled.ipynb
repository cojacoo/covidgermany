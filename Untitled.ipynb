{
 "cells": [
  {
   "cell_type": "code",
   "execution_count": 1,
   "metadata": {},
   "outputs": [
    {
     "name": "stdout",
     "output_type": "stream",
     "text": [
      "Populating the interactive namespace from numpy and matplotlib\n"
     ]
    }
   ],
   "source": [
    "%pylab inline\n",
    "import pandas as pd\n",
    "import numpy as np\n",
    "import pydeck\n",
    "import glob\n",
    "import statsmodels.api as sm\n",
    "import plotly.graph_objects as go\n",
    "import plotly.express as px\n"
   ]
  },
  {
   "cell_type": "code",
   "execution_count": 2,
   "metadata": {},
   "outputs": [],
   "source": [
    "mapbox_access_token = 'pk.eyJ1IjoiY29qYWNrIiwiYSI6IkRTNjV1T2MifQ.EWzL4Qk-VvQoaeJBfE6VSA'\n",
    "px.set_mapbox_access_token(mapbox_access_token)"
   ]
  },
  {
   "cell_type": "code",
   "execution_count": 3,
   "metadata": {},
   "outputs": [],
   "source": [
    "# Load Data\n",
    "def load_data():\n",
    "    #get file list\n",
    "    fi = glob.glob(\"./corona_*\")\n",
    "    \n",
    "    #read all files into dataframe\n",
    "    dummy = pd.read_csv(fi[0],index_col=0)\n",
    "    dummy_cases = dummy.iloc[1:,:2].copy()\n",
    "    dummy_kausali = dummy.iloc[1:,:2].copy()\n",
    "    \n",
    "    for fix in fi:\n",
    "        dummy = pd.read_csv(fix,index_col=0)\n",
    "        cases = pd.DataFrame(dummy.iloc[1:,2],dtype=float)\n",
    "        cases.columns = [pd.to_datetime(dummy.iloc[1,-1])]\n",
    "        dummy_cases = pd.concat([dummy_cases,cases],axis=1)\n",
    "        \n",
    "        if np.shape(dummy)[1]==5:\n",
    "            kausali = pd.DataFrame(dummy.iloc[1:,3],dtype=float)\n",
    "            kausali.columns = [pd.to_datetime(dummy.iloc[1,-1])]\n",
    "            dummy_kausali = pd.concat([dummy_kausali,kausali],axis=1)\n",
    "\n",
    "    LKx = pd.read_csv('LKposi.csv',index_col=0)\n",
    "    dummy_cases = pd.concat([LKx,dummy_cases[dummy_cases.columns[2:].sort_values()]],axis=1)\n",
    "    dummy_kausali = pd.concat([LKx,dummy_kausali[dummy_kausali.columns[2:].sort_values()]],axis=1)\n",
    "\n",
    "    dummy_casesx = dummy_cases.iloc[:,5:].T\n",
    "    dummy_casesx.index = pd.to_datetime(dummy_casesx.index)\n",
    "    \n",
    "    dummy_casesx2 = dummy_casesx.resample('1D').max().T\n",
    "    dummy_increase = dummy_casesx.resample('1D').max().T.diff(2,1)\n",
    "    \n",
    "    dummy_frowfac = dummy_increase.copy()\n",
    "    for i in np.arange(len(dummy_frowfac.columns))[1:][::-1]:\n",
    "        dummy_frowfac.iloc[:,i] = dummy_frowfac.iloc[:,i].div(dummy_frowfac.iloc[:,i-1])\n",
    "\n",
    "    return [pd.concat([LKx,dummy_casesx2],axis=1),dummy_increase,dummy_frowfac,LKx]"
   ]
  },
  {
   "cell_type": "code",
   "execution_count": 6,
   "metadata": {},
   "outputs": [],
   "source": [
    "#get file list\n",
    "fi = glob.glob(\"./corona_*\")\n",
    "#read all files into dataframe\n",
    "dummy = pd.read_csv(fi[0],index_col=0)\n",
    "dummy_cases = dummy.iloc[1:,:2].copy()\n",
    "dummy_kausali = dummy.iloc[1:,:2].copy()\n",
    "for fix in fi:\n",
    "    dummy = pd.read_csv(fix,index_col=0)\n",
    "    cases = pd.DataFrame(dummy.iloc[1:,2],dtype=float)\n",
    "    cases.columns = [pd.to_datetime(dummy.iloc[1,-1])]\n",
    "    dummy_cases = pd.concat([dummy_cases,cases],axis=1)\n",
    "    \n",
    "    if np.shape(dummy)[1]==5:\n",
    "        kausali = pd.DataFrame(dummy.iloc[1:,3],dtype=float)\n",
    "        kausali.columns = [pd.to_datetime(dummy.iloc[1,-1])]\n",
    "        dummy_kausali = pd.concat([dummy_kausali,kausali],axis=1)\n",
    "LKx = pd.read_csv('LKposi.csv',index_col=0)\n",
    "dummy_cases = pd.concat([LKx,dummy_cases[dummy_cases.columns[2:].sort_values()]],axis=1)\n",
    "dummy_kausali = pd.concat([LKx,dummy_kausali[dummy_kausali.columns[2:].sort_values()]],axis=1)\n",
    "dummy_casesx = dummy_cases.iloc[:,5:].T\n",
    "dummy_casesx.index = pd.to_datetime(dummy_casesx.index)\n",
    "dummy_casesx2 = dummy_casesx.resample('1D').max().T\n",
    "dummy_increase = dummy_casesx.resample('1D').max().T.diff(2,1)\n",
    "dummy_frowfac = dummy_increase.copy()\n",
    "for i in np.arange(len(dummy_frowfac.columns))[1:][::-1]:\n",
    "    dummy_frowfac.iloc[:,i] = dummy_frowfac.iloc[:,i].div(dummy_frowfac.iloc[:,i-1])"
   ]
  },
  {
   "cell_type": "code",
   "execution_count": 5,
   "metadata": {},
   "outputs": [
    {
     "data": {
      "text/plain": [
       "'./corona_202003231319'"
      ]
     },
     "execution_count": 5,
     "metadata": {},
     "output_type": "execute_result"
    }
   ],
   "source": [
    "fix"
   ]
  },
  {
   "cell_type": "code",
   "execution_count": 6,
   "metadata": {},
   "outputs": [
    {
     "data": {
      "text/plain": [
       "(array([292]),)"
      ]
     },
     "execution_count": 6,
     "metadata": {},
     "output_type": "execute_result"
    }
   ],
   "source": [
    "np.where(dummy.iloc[1:,3]=='vorher 132')"
   ]
  },
  {
   "cell_type": "code",
   "execution_count": 15,
   "metadata": {},
   "outputs": [
    {
     "data": {
      "text/plain": [
       "False"
      ]
     },
     "execution_count": 15,
     "metadata": {},
     "output_type": "execute_result"
    }
   ],
   "source": [
    "dummy.iloc[1:,3].values[0]==float(np.nan)"
   ]
  },
  {
   "cell_type": "code",
   "execution_count": null,
   "metadata": {},
   "outputs": [],
   "source": []
  }
 ],
 "metadata": {
  "kernelspec": {
   "display_name": "Python 3",
   "language": "python",
   "name": "python3"
  },
  "language_info": {
   "codemirror_mode": {
    "name": "ipython",
    "version": 3
   },
   "file_extension": ".py",
   "mimetype": "text/x-python",
   "name": "python",
   "nbconvert_exporter": "python",
   "pygments_lexer": "ipython3",
   "version": "3.7.2"
  },
  "toc": {
   "base_numbering": 1,
   "nav_menu": {},
   "number_sections": false,
   "sideBar": false,
   "skip_h1_title": false,
   "title_cell": "Table of Contents",
   "title_sidebar": "Contents",
   "toc_cell": false,
   "toc_position": {},
   "toc_section_display": false,
   "toc_window_display": false
  }
 },
 "nbformat": 4,
 "nbformat_minor": 2
}
